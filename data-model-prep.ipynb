{
 "cells": [
  {
   "cell_type": "code",
   "execution_count": 1,
   "metadata": {},
   "outputs": [
    {
     "name": "stderr",
     "output_type": "stream",
     "text": [
      "2024-11-15 22:36:19.434640: I tensorflow/core/platform/cpu_feature_guard.cc:210] This TensorFlow binary is optimized to use available CPU instructions in performance-critical operations.\n",
      "To enable the following instructions: AVX2 FMA, in other operations, rebuild TensorFlow with the appropriate compiler flags.\n"
     ]
    }
   ],
   "source": [
    "from modules import helpers\n",
    "import tensorflow as tf\n"
   ]
  },
  {
   "cell_type": "code",
   "execution_count": 2,
   "metadata": {},
   "outputs": [],
   "source": [
    "# Initialize the data preparer\n",
    "preparer = helpers.WikiArtDataPreparer(cache_dir='wikiart_cache')"
   ]
  },
  {
   "cell_type": "code",
   "execution_count": null,
   "metadata": {},
   "outputs": [],
   "source": [
    "# # Load and filter the dataset\n",
    "dataset = preparer.load_dataset(max_images_per_style=1000)\n",
    "\n",
    "## Load a pre-loaded filtered dataset:\n",
    "# dataset = preparer.load_filtered_dataset()"
   ]
  },
  {
   "cell_type": "code",
   "execution_count": null,
   "metadata": {},
   "outputs": [],
   "source": [
    "# Save filtered data\n",
    "preparer.save_filtered_dataset(filename='/train_val_filtered_dataset.json')"
   ]
  },
  {
   "cell_type": "code",
   "execution_count": null,
   "metadata": {},
   "outputs": [],
   "source": [
    "# Create the TF dataset\n",
    "train_dataset, val_dataset = preparer.create_tf_dataset(batch_size=32)"
   ]
  },
  {
   "cell_type": "code",
   "execution_count": null,
   "metadata": {},
   "outputs": [],
   "source": [
    "# Initialize and train the classifier\n",
    "# Number of classes should match the number of styles in your dataset\n",
    "selected_styles = preparer.selected_styles\n",
    "num_classes = len(preparer.selected_styles)\n",
    "\n",
    "# Initialize the classifier\n",
    "classifier = helpers.ArtStyleClassifier(\n",
    "    num_classes=num_classes,\n",
    "    selected_styles = selected_styles,\n",
    "    image_size=(224, 224)\n",
    ")"
   ]
  },
  {
   "cell_type": "code",
   "execution_count": null,
   "metadata": {},
   "outputs": [],
   "source": [
    "# Train the model\n",
    "history = classifier.train(\n",
    "    train_dataset=train_dataset,\n",
    "    validation_dataset=val_dataset,\n",
    "    epochs=10\n",
    ")"
   ]
  },
  {
   "cell_type": "code",
   "execution_count": null,
   "metadata": {},
   "outputs": [],
   "source": [
    "# 5. Save the trained model\n",
    "classifier.save_model('art_model.h5')"
   ]
  },
  {
   "cell_type": "code",
   "execution_count": null,
   "metadata": {},
   "outputs": [],
   "source": [
    "# Load saved model\n",
    "# classifier = helpers.ArtStyleClassifier.load_model('basic_model.h5', num_classes, selected_styles)"
   ]
  },
  {
   "cell_type": "code",
   "execution_count": null,
   "metadata": {},
   "outputs": [],
   "source": [
    "# To train further a saved model:\n",
    "# Load saved model\n",
    "classifier = helpers.ArtStyleClassifier.load_model('best_model.h5', num_classes)\n",
    "\n",
    "# Resume training from epoch 10\n",
    "history = classifier.train(\n",
    "    train_dataset=train_dataset,\n",
    "    validation_dataset=val_dataset,\n",
    "    epochs=20,  # Train for 10 more epochs\n",
    "    initial_epoch=10\n",
    ")"
   ]
  }
 ],
 "metadata": {
  "kernelspec": {
   "display_name": "base",
   "language": "python",
   "name": "python3"
  },
  "language_info": {
   "codemirror_mode": {
    "name": "ipython",
    "version": 3
   },
   "file_extension": ".py",
   "mimetype": "text/x-python",
   "name": "python",
   "nbconvert_exporter": "python",
   "pygments_lexer": "ipython3",
   "version": "3.11.7"
  }
 },
 "nbformat": 4,
 "nbformat_minor": 2
}
